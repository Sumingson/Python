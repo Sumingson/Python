{
  "nbformat": 4,
  "nbformat_minor": 0,
  "metadata": {
    "colab": {
      "name": "task1.ipynb",
      "provenance": [],
      "collapsed_sections": [],
      "mount_file_id": "1Rv9KL_qhU8nmGsiBLj022BwWhotlThut",
      "authorship_tag": "ABX9TyM/lZG4gZXSb6x78+TqasLj",
      "include_colab_link": true
    },
    "kernelspec": {
      "name": "python3",
      "display_name": "Python 3"
    }
  },
  "cells": [
    {
      "cell_type": "markdown",
      "metadata": {
        "id": "view-in-github",
        "colab_type": "text"
      },
      "source": [
        "<a href=\"https://colab.research.google.com/github/Sumingson/Python/blob/main/task1.ipynb\" target=\"_parent\"><img src=\"https://colab.research.google.com/assets/colab-badge.svg\" alt=\"Open In Colab\"/></a>"
      ]
    },
    {
      "cell_type": "markdown",
      "metadata": {
        "id": "6Th4db7QmWtQ"
      },
      "source": [
        "1. Ячейку, содержащую и отображающую информацию об исполнителе\r\n",
        "\r\n",
        "- группа, фамилию, имя и отчество исполнителя\r\n",
        "\r\n",
        "-  временную зону соответствующую Москве\r\n",
        "\r\n",
        "- дату выполнения задания (программно)\r\n",
        "\r\n",
        "\r\n",
        "2. Ячейку, обеспечивающую:\r\n",
        "\r\n",
        "-  связь и обмен данными с Google-диском и другие манипуляции  обеспечивающие   связь с необходимыми ресурсами  на удаленном сервере\r\n",
        "\r\n",
        "-  подробное отображение содержания папок со   всеми используемыми ресурсами\r\n",
        "\r\n",
        "Ячейки, выполняющие оценивание элементов SWOT-анализа.\r\n",
        "Для каждого из 4-х SWOT-элементов  :\r\n",
        "\r\n",
        "3.  Создать таблицы c важнейшими индивидуальными  факторами (4-6) для  элементов SWOT-анализа  (аналогично созданным в MS Teams и на предшествующих занятиях) \r\n",
        "\r\n",
        "4.  Аналогично ранее обсуждаемому алгоритму,  написать коды обеспечивающие считывание данных и   дозаполнение таблиц\r\n",
        "\r\n",
        "5.  Обеспечить  автоматическое представление полученных результатов в виде столбчатой или точечной диаграммы\r\n",
        "\r\n",
        "6.  Обеспечить автоматическое отображение содержания изменяющихся факторов на диаграмме или в консоли  \r\n",
        "\r\n",
        " \r\n",
        "\r\n",
        "7. Создать ячейку, обеспечивающую: \r\n",
        "\r\n",
        "- автоматическое представление и вычисление  данных в итоговой  таблице SWOT-анализа\r\n",
        "\r\n",
        "- вычисление итоговых оценок\r\n",
        "\r\n",
        "- представление полученных результатов в виде столбчатой или точечной диаграммы\r\n",
        "\r\n",
        "- автоматическое отображение названий элементов на диаграмме или в консоли\r\n",
        "\r\n",
        "\r\n",
        "Исполнитель: Соколов Владислав 20БИ-2"
      ]
    },
    {
      "cell_type": "code",
      "metadata": {
        "id": "BRM6-r3Zmkbv",
        "colab": {
          "base_uri": "https://localhost:8080/",
          "height": 756
        },
        "outputId": "ff9436c3-fb3d-443b-c28f-91cd9bb5724d"
      },
      "source": [
        "#program was made by Vladislav Sokolov 20BI-2\r\n",
        "import json\r\n",
        "import matplotlib.pyplot as plt\r\n",
        "import os\r\n",
        "import time\r\n",
        "import gspread\r\n",
        "from google.colab import auth\r\n",
        "from google.colab import drive\r\n",
        "\r\n",
        "\r\n",
        "print(\"program was made by Vladislav Sokolov 20BI-2\")\r\n",
        "print(\" \")\r\n",
        "auth.authenticate_user()\r\n",
        "\r\n",
        "\r\n",
        "print(\"Файлы используемые в номере\")\r\n",
        "print(os.listdir('/content/drive/MyDrive/swot'))\r\n",
        "\r\n",
        "%ll -lF /content/drive/MyDrive/\"swot\"/task1.ipynb\r\n",
        "from oauth2client.client import GoogleCredentials\r\n",
        "gs = gspread.authorize(GoogleCredentials.get_application_default())\r\n",
        "!ln -fs /usr/share/zoneinfo/Europe/Moscow /etc/localtime\r\n",
        "!date\r\n",
        "\r\n",
        "\r\n",
        "\r\n",
        "print('\\nРаботаем с таблицей')\r\n",
        "%ll -lAF /content/drive/MyDrive/\"swot\"/\r\n",
        "try:\r\n",
        "  os.stat('/content/drive/MyDrive/swot/table1.gsheet')\r\n",
        "  table = gs.open_by_key('1AptBtUewGhvpCu5PD0FN16XwyV9QRuKvJYFfaUPpkho')\r\n",
        "except Exception as mistake:\r\n",
        "    print('\\n',mistake)\r\n",
        "    print(\"Необходимо создать таблицу\\n\")\r\n",
        "    %ll -lAF /content/drive/MyDrive/\r\n",
        "    gs_01 = gs.create('table_01')\r\n",
        "    %ll -lAF /content/drive/MyDrive/\r\n",
        "    print(gs_01)\r\n",
        "    print (gs_01.id)\r\n",
        "    print(dir(gs_01))\r\n",
        "    %ll -lAF /content/drive/MyDrive/\"swot\"/task1.ipynb\r\n",
        "    %mv  /content/drive/MyDrive/table_01.gsheet /content/drive/MyDrive/\"swot\"/task1.ipynb\r\n",
        "    %ll -lAF /content/drive/MyDrive/\"swot\"/task1.ipynb\r\n",
        "\r\n",
        "\r\n",
        "print('\\nРаботаем с листом')\r\n",
        "try:\r\n",
        "  worksheet = table.worksheet('first')\r\n",
        "except Exception as mistake:\r\n",
        "    print('\\n',mistake)\r\n",
        "    print(\"Необходимо создать лист\\n\")\r\n",
        "    worksheet = table.add_worksheet(\"list1\",100,100)\r\n",
        "\r\n",
        "\r\n",
        "rows = worksheet.get_all_values()\r\n",
        "print(rows)\r\n",
        "\r\n",
        "\r\n",
        "def summary(rows,x1,y1,x2,y2):\r\n",
        "  result = 0\r\n",
        "  for i in range(y1-1,y2):\r\n",
        "    mult = int(rows[i][x1-1])*float(rows[i][x2-1])\r\n",
        "    if x2==7:\r\n",
        "      string = \"H\"+str(i+1)\r\n",
        "      worksheet.update(string, mult)\r\n",
        "    if x2==13:\r\n",
        "      string = \"N\"+str(i+1)\r\n",
        "      worksheet.update(string, mult)\r\n",
        "    result +=mult\r\n",
        "\r\n",
        "  if x2==7:\r\n",
        "      string = \"H\"+str(y2+1)\r\n",
        "  if x2==13:\r\n",
        "      string = \"N\"+str(y2+1)\r\n",
        "  worksheet.update(string, result)\r\n",
        "  return result\r\n",
        "\r\n",
        "s = summary(rows,6,3,7,6)\r\n",
        "w = (-1)*summary(rows,12,3,13,6)\r\n",
        "o = summary(rows,6,9,7,12)\r\n",
        "t = (-1)*summary(rows,12,9,13,12)\r\n",
        "\r\n",
        "\r\n",
        "y = [s,w,o,t]\r\n",
        "x = [1,2,3,4,]\r\n",
        "x_pos=list()\r\n",
        "for i in range(x.__len__()):\r\n",
        "        x_pos.append(i)\r\n",
        "\r\n",
        "\r\n",
        "fig=plt.figure(figsize=(8,6), dpi=72)\r\n",
        "plt.bar(x_pos, y, width=0.75, align='edge', alpha=0.4)\r\n",
        "plt.xticks(x_pos,  x, fontsize=14)\r\n",
        "plt.xlabel('Обозначения1', fontsize=14)\r\n",
        "plt.ylabel('Мощность воздействия', fontsize=14)\r\n",
        "plt.title('SWOT', fontsize=14)\r\n",
        "plt.grid(True, color='r', linestyle='-', linewidth=2)\r\n",
        "#plt.draw()\r\n",
        "plt.show()\r\n",
        "print(\"1 - Strengths\",s,\"  2 - Weaknesses\",w,\"  3 - Opportunities  \",o,\"  4 - Threats\",t)\r\n",
        "\r\n",
        "\r\n",
        "print(\" \")\r\n",
        "print(\"Конец\")\r\n",
        "%ll -lAF /content/drive/MyDrive/\"swot\"/task1.ipynb\r\n",
        "os.listdir('/content/drive/MyDrive/swot/')\r\n"
      ],
      "execution_count": 87,
      "outputs": [
        {
          "output_type": "stream",
          "text": [
            "program was made by Vladislav Sokolov 20BI-2\n",
            " \n",
            "Файлы используемые в номере\n",
            "['task1.ipynb', 'table1.gsheet']\n",
            "-rw------- 1 root 26603 Mar  3 23:42 /content/drive/MyDrive/swot/task1.ipynb\n",
            "Wed Mar  3 23:46:33 MSK 2021\n",
            "\n",
            "Работаем с таблицей\n",
            "total 27\n",
            "-rw------- 1 root   151 Mar  3 23:46 table1.gsheet\n",
            "-rw------- 1 root 26603 Mar  3 23:42 task1.ipynb\n",
            "\n",
            "Работаем с листом\n",
            "[['Информация об исполнителе', 'Цель', '', 'Имя', 'Действие', 'Важность', 'Вероятность ', 'Итог', '', 'Имя', 'Действие', 'Важность', 'Вероятность ', 'Итог'], ['20БИ-2 Соколов Владислав Владимирович', 'Компания по перевозке тяжелых грузов', 'Strengths', '', '', '', '', '', 'Weaknesses', '', '', '', '', ''], ['', '', '1', 'Автопарк грузовиков, собственная парковка, мойка, мастерская', 'Использование этих ресурсов на повседневной основе', '10', '1', '10', '1', 'Нестабильность состава рабочих нижнего звена', 'Предоставление работникам полного соц пакета', '6', '0.5', '3'], ['', '', '2', 'Скллад запчастей для грузовиков', 'Ввести электронную систему учета запчастей', '8', '0.7', '5,6', '2', 'Частое изменение законодательства в сфере грузоперевозок', 'Найм юриста, быстро адаптирующего работу компании под новые условия', '8', '0.6', '4,8'], ['', '', '3', 'Программа отслеж. геопозицию грузовиков', 'Установка GPS трекера на каждый грузовик', '7', '0.9', '6,3', '3', 'Низкое качество ремонта грузвиков', 'Найм квалифицированного специалиста', '7', '0.9', '6,3'], ['', '', '4', 'Контракт на грузоперевозку с пром компаниями', 'Заключение контрактов с директорами портов, заводов, стоительных компаний', '10', '0.5', '5', '4', 'Большой срок окупаемости, из-за больших накладных расходов', 'Поиск баланса между ценами на рынке, накладными расходами и собственными ценами', '9', '0.9', '8,1'], ['', '', 'Итог', '', '', '', '', '26,9', 'Итог', '', '', '', '', '22,2'], ['', '', 'Opportunities', '', '', '', '', '', 'Threats', '', '', '', '', ''], ['', '', '1', 'Системы идентификации и контроля водителя', 'Поиск и закуп соответствующих систем контроля', '9', '1', '9', '1', \"Большая конкуренция из-за большого числа ИП'шников, а не больших организаций\", 'Работать  с постоянными клиентами и привлекать новых через связи', '7', '0.8', '5,6'], ['', '', '2', 'Расширение на межрегиональный уровень', 'Открытие точек в других регионах. Поиск новых источников работы', '7', '0.6', '4,2', '2', 'Потеря контракта с пром предприятиями (портами, заводами)', 'Предоставление возможности пересмотра контракта', '9', '0.5', '4,5'], ['', '', '3', 'Расширение спектра оказываемых услуг', 'Поиск вариантов. Выбор. Закуп. Реализация. (напр. лесоперевозки)', '6', '0.6', '3,6', '3', 'Сезонность работ (летом спрос выше, чем зимой)', 'Поиск новых источников работы в несезонное время', '8', '0.8', '6,4'], ['', '', '4', 'Автоматизация бух учета', 'Использование системы СБИС компани ТЕНЗОР', '8', '0.7', '5,6', '4', 'Зависимость от суммарных потребностей рынка на грузоперевозки', 'Демонстрация преимущества авто грузоперевозок над остальными', '6', '0.5', '3'], ['', '', 'Итог', '', '', '', '', '22,4', 'Итог', '', '', '', '', '19,5']]\n"
          ],
          "name": "stdout"
        },
        {
          "output_type": "display_data",
          "data": {
            "image/png": "[encoded data removed]",
            "text/plain": [
              "<Figure size 576x432 with 1 Axes>"
            ]
          },
          "metadata": {
            "tags": [],
            "needs_background": "light"
          }
        },
        {
          "output_type": "stream",
          "text": [
            "1 - Strengths 26.9   2 - Weaknesses -22.2   3 - Opportunities   22.4   4 - Threats -19.5\n",
            " \n",
            "Конец\n",
            "-rw------- 1 root 26603 Mar  3 23:42 /content/drive/MyDrive/swot/task1.ipynb\n"
          ],
          "name": "stdout"
        },
        {
          "output_type": "execute_result",
          "data": {
            "text/plain": [
              "['task1.ipynb', 'table1.gsheet']"
            ]
          },
          "metadata": {
            "tags": []
          },
          "execution_count": 87
        }
      ]
    }
  ]
}